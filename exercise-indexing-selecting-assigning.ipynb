{
 "cells": [
  {
   "cell_type": "markdown",
   "metadata": {},
   "source": [
    "**This notebook is an exercise in the [Pandas](https://www.kaggle.com/learn/pandas) course.  You can reference the tutorial at [this link](https://www.kaggle.com/residentmario/indexing-selecting-assigning).**\n",
    "\n",
    "---\n"
   ]
  },
  {
   "cell_type": "markdown",
   "metadata": {},
   "source": [
    "# Introduction\n",
    "\n",
    "In this set of exercises we will work with the [Wine Reviews dataset](https://www.kaggle.com/zynicide/wine-reviews). "
   ]
  },
  {
   "cell_type": "markdown",
   "metadata": {},
   "source": [
    "Run the following cell to load your data and some utility functions (including code to check your answers)."
   ]
  },
  {
   "cell_type": "code",
   "execution_count": 1,
   "metadata": {
    "execution": {
     "iopub.execute_input": "2022-08-19T16:00:50.176787Z",
     "iopub.status.busy": "2022-08-19T16:00:50.175280Z",
     "iopub.status.idle": "2022-08-19T16:00:53.496746Z",
     "shell.execute_reply": "2022-08-19T16:00:53.495217Z",
     "shell.execute_reply.started": "2022-08-19T16:00:50.176584Z"
    }
   },
   "outputs": [],
   "source": [
    "import pandas as pd\n",
    "\n",
    "reviews = pd.read_csv(\"../input/wine-reviews/winemag-data-130k-v2.csv\", index_col=0)\n",
    "pd.set_option(\"display.max_rows\", 5)\n",
    "\n",
    "from learntools.core import binder; binder.bind(globals())\n",
    "from learntools.pandas.indexing_selecting_and_assigning import *\n",
    "print(\"Setup complete.\")"
   ]
  },
  {
   "cell_type": "markdown",
   "metadata": {},
   "source": [
    "Look at an overview of your data by running the following line."
   ]
  },
  {
   "cell_type": "code",
   "execution_count": 2,
   "metadata": {
    "execution": {
     "iopub.execute_input": "2022-08-19T16:00:58.885135Z",
     "iopub.status.busy": "2022-08-19T16:00:58.884723Z",
     "iopub.status.idle": "2022-08-19T16:00:58.918707Z",
     "shell.execute_reply": "2022-08-19T16:00:58.917598Z",
     "shell.execute_reply.started": "2022-08-19T16:00:58.885103Z"
    }
   },
   "outputs": [],
   "source": [
    "reviews.head()"
   ]
  },
  {
   "cell_type": "markdown",
   "metadata": {},
   "source": [
    "# Exercises"
   ]
  },
  {
   "cell_type": "markdown",
   "metadata": {},
   "source": [
    "## 1.\n",
    "\n",
    "Select the `description` column from `reviews` and assign the result to the variable `desc`."
   ]
  },
  {
   "cell_type": "code",
   "execution_count": 11,
   "metadata": {
    "execution": {
     "iopub.execute_input": "2022-08-19T16:04:54.749388Z",
     "iopub.status.busy": "2022-08-19T16:04:54.748907Z",
     "iopub.status.idle": "2022-08-19T16:04:54.761430Z",
     "shell.execute_reply": "2022-08-19T16:04:54.759997Z",
     "shell.execute_reply.started": "2022-08-19T16:04:54.749352Z"
    }
   },
   "outputs": [],
   "source": [
    "# Your code here\n",
    "desc = reviews.description\n",
    "\n",
    "# Check your answer\n",
    "q1.check()"
   ]
  },
  {
   "cell_type": "code",
   "execution_count": 8,
   "metadata": {
    "execution": {
     "iopub.execute_input": "2022-08-19T16:03:45.623313Z",
     "iopub.status.busy": "2022-08-19T16:03:45.622529Z",
     "iopub.status.idle": "2022-08-19T16:03:45.631592Z",
     "shell.execute_reply": "2022-08-19T16:03:45.630250Z",
     "shell.execute_reply.started": "2022-08-19T16:03:45.623263Z"
    }
   },
   "outputs": [],
   "source": [
    "type(desc)"
   ]
  },
  {
   "cell_type": "markdown",
   "metadata": {},
   "source": [
    "Follow-up question: what type of object is `desc`? If you're not sure, you can check by calling Python's `type` function: `type(desc)`."
   ]
  },
  {
   "cell_type": "code",
   "execution_count": 10,
   "metadata": {
    "execution": {
     "iopub.execute_input": "2022-08-19T16:04:23.398346Z",
     "iopub.status.busy": "2022-08-19T16:04:23.397409Z",
     "iopub.status.idle": "2022-08-19T16:04:23.416207Z",
     "shell.execute_reply": "2022-08-19T16:04:23.414706Z",
     "shell.execute_reply.started": "2022-08-19T16:04:23.398278Z"
    }
   },
   "outputs": [],
   "source": [
    "q1.hint()\n",
    "q1.solution()"
   ]
  },
  {
   "cell_type": "markdown",
   "metadata": {},
   "source": [
    "## 2.\n",
    "\n",
    "Select the first value from the description column of `reviews`, assigning it to variable `first_description`."
   ]
  },
  {
   "cell_type": "code",
   "execution_count": 13,
   "metadata": {
    "execution": {
     "iopub.execute_input": "2022-08-19T16:09:06.917866Z",
     "iopub.status.busy": "2022-08-19T16:09:06.917318Z",
     "iopub.status.idle": "2022-08-19T16:09:06.932359Z",
     "shell.execute_reply": "2022-08-19T16:09:06.931066Z",
     "shell.execute_reply.started": "2022-08-19T16:09:06.917817Z"
    }
   },
   "outputs": [],
   "source": [
    "first_description = reviews.loc[0,\"description\"]\n",
    "\n",
    "# Check your answer\n",
    "q2.check()\n",
    "first_description"
   ]
  },
  {
   "cell_type": "code",
   "execution_count": 14,
   "metadata": {
    "execution": {
     "iopub.execute_input": "2022-08-19T16:11:21.518650Z",
     "iopub.status.busy": "2022-08-19T16:11:21.517460Z",
     "iopub.status.idle": "2022-08-19T16:11:21.525617Z",
     "shell.execute_reply": "2022-08-19T16:11:21.524721Z",
     "shell.execute_reply.started": "2022-08-19T16:11:21.518598Z"
    }
   },
   "outputs": [],
   "source": [
    "first_description = reviews.description.iloc[0]\n",
    "first_description"
   ]
  },
  {
   "cell_type": "code",
   "execution_count": 15,
   "metadata": {
    "execution": {
     "iopub.execute_input": "2022-08-19T16:11:51.871781Z",
     "iopub.status.busy": "2022-08-19T16:11:51.871342Z",
     "iopub.status.idle": "2022-08-19T16:11:51.890181Z",
     "shell.execute_reply": "2022-08-19T16:11:51.886968Z",
     "shell.execute_reply.started": "2022-08-19T16:11:51.871747Z"
    }
   },
   "outputs": [],
   "source": [
    "q2.hint()\n",
    "q2.solution()"
   ]
  },
  {
   "cell_type": "markdown",
   "metadata": {},
   "source": [
    "## 3. \n",
    "\n",
    "Select the first row of data (the first record) from `reviews`, assigning it to the variable `first_row`."
   ]
  },
  {
   "cell_type": "code",
   "execution_count": 18,
   "metadata": {
    "execution": {
     "iopub.execute_input": "2022-08-19T16:15:56.097096Z",
     "iopub.status.busy": "2022-08-19T16:15:56.096660Z",
     "iopub.status.idle": "2022-08-19T16:15:56.114263Z",
     "shell.execute_reply": "2022-08-19T16:15:56.112925Z",
     "shell.execute_reply.started": "2022-08-19T16:15:56.097061Z"
    }
   },
   "outputs": [],
   "source": [
    "first_row = reviews.iloc[0]\n",
    "\n",
    "# Check your answer\n",
    "q3.check()\n",
    "first_row"
   ]
  },
  {
   "cell_type": "code",
   "execution_count": 19,
   "metadata": {
    "execution": {
     "iopub.execute_input": "2022-08-19T16:16:38.292552Z",
     "iopub.status.busy": "2022-08-19T16:16:38.292047Z",
     "iopub.status.idle": "2022-08-19T16:16:38.306092Z",
     "shell.execute_reply": "2022-08-19T16:16:38.304921Z",
     "shell.execute_reply.started": "2022-08-19T16:16:38.292509Z"
    }
   },
   "outputs": [],
   "source": [
    "q3.hint()\n",
    "q3.solution()"
   ]
  },
  {
   "cell_type": "markdown",
   "metadata": {},
   "source": [
    "## 4.\n",
    "\n",
    "Select the first 10 values from the `description` column in `reviews`, assigning the result to variable `first_descriptions`.\n",
    "\n",
    "Hint: format your output as a pandas Series."
   ]
  },
  {
   "cell_type": "code",
   "execution_count": 21,
   "metadata": {
    "execution": {
     "iopub.execute_input": "2022-08-19T16:18:26.232391Z",
     "iopub.status.busy": "2022-08-19T16:18:26.230600Z",
     "iopub.status.idle": "2022-08-19T16:18:26.253618Z",
     "shell.execute_reply": "2022-08-19T16:18:26.251733Z",
     "shell.execute_reply.started": "2022-08-19T16:18:26.232327Z"
    }
   },
   "outputs": [],
   "source": [
    "first_descriptions = reviews.description.iloc[0:10]\n",
    "\n",
    "# Check your answer\n",
    "q4.check()\n",
    "first_descriptions"
   ]
  },
  {
   "cell_type": "code",
   "execution_count": 22,
   "metadata": {
    "execution": {
     "iopub.execute_input": "2022-08-19T16:19:19.831923Z",
     "iopub.status.busy": "2022-08-19T16:19:19.830515Z",
     "iopub.status.idle": "2022-08-19T16:19:19.845481Z",
     "shell.execute_reply": "2022-08-19T16:19:19.844209Z",
     "shell.execute_reply.started": "2022-08-19T16:19:19.831860Z"
    }
   },
   "outputs": [],
   "source": [
    "q4.hint()\n",
    "q4.solution()"
   ]
  },
  {
   "cell_type": "markdown",
   "metadata": {},
   "source": [
    "## 5.\n",
    "\n",
    "Select the records with index labels `1`, `2`, `3`, `5`, and `8`, assigning the result to the variable `sample_reviews`.\n",
    "\n",
    "In other words, generate the following DataFrame:\n",
    "\n",
    "![](https://i.imgur.com/sHZvI1O.png)"
   ]
  },
  {
   "cell_type": "code",
   "execution_count": 28,
   "metadata": {
    "execution": {
     "iopub.execute_input": "2022-08-19T16:27:28.439838Z",
     "iopub.status.busy": "2022-08-19T16:27:28.438478Z",
     "iopub.status.idle": "2022-08-19T16:27:28.469575Z",
     "shell.execute_reply": "2022-08-19T16:27:28.468601Z",
     "shell.execute_reply.started": "2022-08-19T16:27:28.439783Z"
    }
   },
   "outputs": [],
   "source": [
    "indices = [1,2,3,5,8]\n",
    "sample_reviews = reviews.loc[indices]\n",
    "\n",
    "# Check your answer\n",
    "q5.check()\n",
    "sample_reviews"
   ]
  },
  {
   "cell_type": "code",
   "execution_count": 25,
   "metadata": {
    "execution": {
     "iopub.execute_input": "2022-08-19T16:25:41.892909Z",
     "iopub.status.busy": "2022-08-19T16:25:41.892427Z",
     "iopub.status.idle": "2022-08-19T16:25:41.911426Z",
     "shell.execute_reply": "2022-08-19T16:25:41.909912Z",
     "shell.execute_reply.started": "2022-08-19T16:25:41.892873Z"
    }
   },
   "outputs": [],
   "source": [
    "q5.hint()\n",
    "q5.solution()"
   ]
  },
  {
   "cell_type": "markdown",
   "metadata": {},
   "source": [
    "## 6.\n",
    "\n",
    "Create a variable `df` containing the `country`, `province`, `region_1`, and `region_2` columns of the records with the index labels `0`, `1`, `10`, and `100`. In other words, generate the following DataFrame:\n",
    "\n",
    "![](https://i.imgur.com/FUCGiKP.png)"
   ]
  },
  {
   "cell_type": "code",
   "execution_count": 29,
   "metadata": {
    "execution": {
     "iopub.execute_input": "2022-08-19T16:35:05.981581Z",
     "iopub.status.busy": "2022-08-19T16:35:05.981067Z",
     "iopub.status.idle": "2022-08-19T16:35:06.011637Z",
     "shell.execute_reply": "2022-08-19T16:35:06.010668Z",
     "shell.execute_reply.started": "2022-08-19T16:35:05.981544Z"
    }
   },
   "outputs": [],
   "source": [
    "indices = [0,1,10,100]\n",
    "df = reviews.loc[indices,[\"country\",\"province\",\"region_1\",\"region_2\"]]\n",
    "\n",
    "# Check your answer\n",
    "q6.check()\n",
    "df"
   ]
  },
  {
   "cell_type": "code",
   "execution_count": 30,
   "metadata": {
    "execution": {
     "iopub.execute_input": "2022-08-19T16:36:04.946266Z",
     "iopub.status.busy": "2022-08-19T16:36:04.945606Z",
     "iopub.status.idle": "2022-08-19T16:36:04.958036Z",
     "shell.execute_reply": "2022-08-19T16:36:04.957158Z",
     "shell.execute_reply.started": "2022-08-19T16:36:04.946230Z"
    }
   },
   "outputs": [],
   "source": [
    "q6.hint()\n",
    "q6.solution()"
   ]
  },
  {
   "cell_type": "markdown",
   "metadata": {},
   "source": [
    "## 7.\n",
    "\n",
    "Create a variable `df` containing the `country` and `variety` columns of the first 100 records. \n",
    "\n",
    "Hint: you may use `loc` or `iloc`. When working on the answer this question and the several of the ones that follow, keep the following \"gotcha\" described in the tutorial:\n",
    "\n",
    "> `iloc` uses the Python stdlib indexing scheme, where the first element of the range is included and the last one excluded. \n",
    "`loc`, meanwhile, indexes inclusively. \n",
    "\n",
    "> This is particularly confusing when the DataFrame index is a simple numerical list, e.g. `0,...,1000`. In this case `df.iloc[0:1000]` will return 1000 entries, while `df.loc[0:1000]` return 1001 of them! To get 1000 elements using `loc`, you will need to go one lower and ask for `df.iloc[0:999]`. "
   ]
  },
  {
   "cell_type": "code",
   "execution_count": 32,
   "metadata": {
    "execution": {
     "iopub.execute_input": "2022-08-19T16:44:25.061131Z",
     "iopub.status.busy": "2022-08-19T16:44:25.060694Z",
     "iopub.status.idle": "2022-08-19T16:44:25.084164Z",
     "shell.execute_reply": "2022-08-19T16:44:25.082742Z",
     "shell.execute_reply.started": "2022-08-19T16:44:25.061097Z"
    }
   },
   "outputs": [],
   "source": [
    "\n",
    "df = reviews.loc[0:99,[\"country\",\"variety\"]]\n",
    "\n",
    "# Check your answer\n",
    "q7.check()\n",
    "df"
   ]
  },
  {
   "cell_type": "code",
   "execution_count": null,
   "metadata": {},
   "outputs": [],
   "source": [
    "#q7.hint()\n",
    "#q7.solution()"
   ]
  },
  {
   "cell_type": "markdown",
   "metadata": {},
   "source": [
    "## 8.\n",
    "\n",
    "Create a DataFrame `italian_wines` containing reviews of wines made in `Italy`. Hint: `reviews.country` equals what?"
   ]
  },
  {
   "cell_type": "code",
   "execution_count": 35,
   "metadata": {
    "execution": {
     "iopub.execute_input": "2022-08-19T16:47:37.529311Z",
     "iopub.status.busy": "2022-08-19T16:47:37.527251Z",
     "iopub.status.idle": "2022-08-19T16:47:37.560467Z",
     "shell.execute_reply": "2022-08-19T16:47:37.559133Z",
     "shell.execute_reply.started": "2022-08-19T16:47:37.529255Z"
    }
   },
   "outputs": [],
   "source": [
    "italian_wines = reviews.loc[reviews.country == \"Italy\"]\n",
    "\n",
    "# Check your answer\n",
    "q8.check()"
   ]
  },
  {
   "cell_type": "code",
   "execution_count": 36,
   "metadata": {
    "execution": {
     "iopub.execute_input": "2022-08-19T16:48:01.124525Z",
     "iopub.status.busy": "2022-08-19T16:48:01.122958Z",
     "iopub.status.idle": "2022-08-19T16:48:01.139500Z",
     "shell.execute_reply": "2022-08-19T16:48:01.138296Z",
     "shell.execute_reply.started": "2022-08-19T16:48:01.124453Z"
    }
   },
   "outputs": [],
   "source": [
    "q8.hint()\n",
    "q8.solution()"
   ]
  },
  {
   "cell_type": "markdown",
   "metadata": {},
   "source": [
    "## 9.\n",
    "\n",
    "Create a DataFrame `top_oceania_wines` containing all reviews with at least 95 points (out of 100) for wines from Australia or New Zealand."
   ]
  },
  {
   "cell_type": "code",
   "execution_count": 40,
   "metadata": {
    "execution": {
     "iopub.execute_input": "2022-08-19T16:55:05.868559Z",
     "iopub.status.busy": "2022-08-19T16:55:05.867260Z",
     "iopub.status.idle": "2022-08-19T16:55:05.918142Z",
     "shell.execute_reply": "2022-08-19T16:55:05.916812Z",
     "shell.execute_reply.started": "2022-08-19T16:55:05.868514Z"
    }
   },
   "outputs": [],
   "source": [
    "top_oceania_wines = reviews.loc[(reviews.points >= 95) & ((reviews.country == \"Australia\") | (reviews.country == \"New Zealand\"))]\n",
    "\n",
    "# Check your answer\n",
    "q9.check()\n",
    "top_oceania_wines"
   ]
  },
  {
   "cell_type": "code",
   "execution_count": null,
   "metadata": {},
   "outputs": [],
   "source": [
    "#q9.hint()\n",
    "#q9.solution()"
   ]
  },
  {
   "cell_type": "markdown",
   "metadata": {},
   "source": [
    "# Keep going\n",
    "\n",
    "Move on to learn about **[summary functions and maps](https://www.kaggle.com/residentmario/summary-functions-and-maps)**."
   ]
  },
  {
   "cell_type": "markdown",
   "metadata": {},
   "source": [
    "---\n",
    "\n",
    "\n",
    "\n",
    "\n",
    "*Have questions or comments? Visit the [course discussion forum](https://www.kaggle.com/learn/pandas/discussion) to chat with other learners.*"
   ]
  }
 ],
 "metadata": {
  "kernelspec": {
   "display_name": "Python 3 (ipykernel)",
   "language": "python",
   "name": "python3"
  },
  "language_info": {
   "codemirror_mode": {
    "name": "ipython",
    "version": 3
   },
   "file_extension": ".py",
   "mimetype": "text/x-python",
   "name": "python",
   "nbconvert_exporter": "python",
   "pygments_lexer": "ipython3",
   "version": "3.9.12"
  }
 },
 "nbformat": 4,
 "nbformat_minor": 4
}
